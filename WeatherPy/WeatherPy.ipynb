{
 "cells": [
  {
   "cell_type": "code",
   "execution_count": 13,
   "metadata": {},
   "outputs": [],
   "source": [
    "import matplotlib.pyplot as plt\n",
    "import pandas as pd\n",
    "import numpy as np\n",
    "import requests\n",
    "import time\n",
    "from scipy.stats import linregress\n",
    "\n",
    "from config import weather_api_key\n",
    "\n",
    "from citipy import citipy\n",
    "\n",
    "output_data = \"data/cities.csv\"\n",
    "\n",
    "lat_range = (-90, 90)\n",
    "lng_range = (-180, 180)"
   ]
  },
  {
   "cell_type": "code",
   "execution_count": 19,
   "metadata": {},
   "outputs": [
    {
     "name": "stdout",
     "output_type": "stream",
     "text": [
      "648\n",
      "['bouza', 'scarborough', 'vao', 'magistralnyy', 'kieta', 'rikitea', 'souillac', 'puerto ayora', 'naples', 'mahina', 'tautira', 'port blair', 'hithadhoo', 'saint-philippe', 'hermanus', 'mataura', 'bonavista', 'marawi', 'east london', 'tabou', 'urucara', 'jamestown', 'rundu', 'yulara', 'kahului', 'el segundo', 'norman wells', 'butaritari', 'tiksi', 'attawapiskat']\n"
     ]
    }
   ],
   "source": [
    "lat_lngs = []\n",
    "cities = []\n",
    "\n",
    "lats = np.random.uniform(lat_range[0], lat_range[1], size=1500)\n",
    "lngs = np.random.uniform(lng_range[0], lng_range[1], size=1500)\n",
    "lat_lngs = zip(lats, lngs)\n",
    "\n",
    "for lat_lng in lat_lngs:\n",
    "    city = citipy.nearest_city(lat_lng[0], lat_lng[1]).city_name\n",
    "    \n",
    "    if city not in cities:\n",
    "        cities.append(city)\n",
    "print(len(cities))\n",
    "print(cities[0:30])"
   ]
  },
  {
   "cell_type": "code",
   "execution_count": null,
   "metadata": {},
   "outputs": [],
   "source": [
    "url = api.openweathermap.org/data/2.5/weather\n",
    "\n",
    "weather = []\n",
    "\n",
    "for city in cities \n",
    "    response = request.get(url + \"?id=\" + city + \"&appid=\" + weather_api_key}\n",
    "    \n",
    "\n"
   ]
  }
 ],
 "metadata": {
  "kernelspec": {
   "display_name": "Python 3",
   "language": "python",
   "name": "python3"
  },
  "language_info": {
   "codemirror_mode": {
    "name": "ipython",
    "version": 3
   },
   "file_extension": ".py",
   "mimetype": "text/x-python",
   "name": "python",
   "nbconvert_exporter": "python",
   "pygments_lexer": "ipython3",
   "version": "3.6.10"
  }
 },
 "nbformat": 4,
 "nbformat_minor": 4
}
